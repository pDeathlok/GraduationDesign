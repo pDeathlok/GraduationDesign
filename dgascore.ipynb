{
 "cells": [
  {
   "cell_type": "code",
   "execution_count": 1,
   "metadata": {
    "collapsed": false
   },
   "outputs": [],
   "source": [
    "import tldextract\n",
    "import re\n",
    "import numpy as np\n",
    "\n",
    "def domain_extract(domain):\n",
    "    try:\n",
    "        ext = tldextract.extract(domain)\n",
    "        if (not ext.suffix):\n",
    "            return np.nan\n",
    "        elif re.match('^[1-9a-zA-Z-]{1,63}$', ext.domain):\n",
    "            return ext.domain\n",
    "        else:\n",
    "            return np.nan\n",
    "    except:\n",
    "        print domain\n",
    "        return np.nan"
   ]
  },
  {
   "cell_type": "code",
   "execution_count": 2,
   "metadata": {
    "collapsed": false
   },
   "outputs": [
    {
     "data": {
      "text/plain": [
       "u'0.19.2'"
      ]
     },
     "execution_count": 2,
     "metadata": {},
     "output_type": "execute_result"
    }
   ],
   "source": [
    "import pandas as pd\n",
    "pd.__version__"
   ]
  },
  {
   "cell_type": "code",
   "execution_count": 3,
   "metadata": {
    "collapsed": false
   },
   "outputs": [
    {
     "data": {
      "text/html": [
       "<div>\n",
       "<table border=\"1\" class=\"dataframe\">\n",
       "  <thead>\n",
       "    <tr style=\"text-align: right;\">\n",
       "      <th></th>\n",
       "      <th>family</th>\n",
       "      <th>domain</th>\n",
       "      <th>stime</th>\n",
       "      <th>etime</th>\n",
       "    </tr>\n",
       "  </thead>\n",
       "  <tbody>\n",
       "    <tr>\n",
       "      <th>0</th>\n",
       "      <td>nymaim</td>\n",
       "      <td>qoxkpqlqm.biz</td>\n",
       "      <td>2017-05-01 00:00:00</td>\n",
       "      <td>2017-05-01 23:59:59</td>\n",
       "    </tr>\n",
       "    <tr>\n",
       "      <th>1</th>\n",
       "      <td>nymaim</td>\n",
       "      <td>xjvlja.org</td>\n",
       "      <td>2017-05-01 00:00:00</td>\n",
       "      <td>2017-05-01 23:59:59</td>\n",
       "    </tr>\n",
       "    <tr>\n",
       "      <th>2</th>\n",
       "      <td>nymaim</td>\n",
       "      <td>tdksfgspy.biz</td>\n",
       "      <td>2017-05-01 00:00:00</td>\n",
       "      <td>2017-05-01 23:59:59</td>\n",
       "    </tr>\n",
       "    <tr>\n",
       "      <th>3</th>\n",
       "      <td>nymaim</td>\n",
       "      <td>udbwmukdw.com</td>\n",
       "      <td>2017-05-01 00:00:00</td>\n",
       "      <td>2017-05-01 23:59:59</td>\n",
       "    </tr>\n",
       "    <tr>\n",
       "      <th>4</th>\n",
       "      <td>nymaim</td>\n",
       "      <td>wrphopu.biz</td>\n",
       "      <td>2017-05-01 00:00:00</td>\n",
       "      <td>2017-05-01 23:59:59</td>\n",
       "    </tr>\n",
       "  </tbody>\n",
       "</table>\n",
       "</div>"
      ],
      "text/plain": [
       "   family         domain                stime                etime\n",
       "0  nymaim  qoxkpqlqm.biz  2017-05-01 00:00:00  2017-05-01 23:59:59\n",
       "1  nymaim     xjvlja.org  2017-05-01 00:00:00  2017-05-01 23:59:59\n",
       "2  nymaim  tdksfgspy.biz  2017-05-01 00:00:00  2017-05-01 23:59:59\n",
       "3  nymaim  udbwmukdw.com  2017-05-01 00:00:00  2017-05-01 23:59:59\n",
       "4  nymaim    wrphopu.biz  2017-05-01 00:00:00  2017-05-01 23:59:59"
      ]
     },
     "execution_count": 3,
     "metadata": {},
     "output_type": "execute_result"
    }
   ],
   "source": [
    "dga_dataframe = pd.read_csv('dga.csv', names=['family', 'domain', 'stime', 'etime'], header=None, encoding='utf-8')\n",
    "dga_dataframe.head()"
   ]
  },
  {
   "cell_type": "code",
   "execution_count": 4,
   "metadata": {
    "collapsed": false
   },
   "outputs": [
    {
     "data": {
      "text/html": [
       "<div>\n",
       "<table border=\"1\" class=\"dataframe\">\n",
       "  <thead>\n",
       "    <tr style=\"text-align: right;\">\n",
       "      <th></th>\n",
       "      <th>family</th>\n",
       "      <th>domain</th>\n",
       "      <th>stime</th>\n",
       "      <th>etime</th>\n",
       "    </tr>\n",
       "  </thead>\n",
       "  <tbody>\n",
       "    <tr>\n",
       "      <th>1037300</th>\n",
       "      <td>ramnit</td>\n",
       "      <td>gkptqpxwcssikkqrl</td>\n",
       "      <td>1970-01-01 00:00:00</td>\n",
       "      <td>2030-01-01 00:00:00</td>\n",
       "    </tr>\n",
       "    <tr>\n",
       "      <th>1037301</th>\n",
       "      <td>ramnit</td>\n",
       "      <td>syluctetweb</td>\n",
       "      <td>1970-01-01 00:00:00</td>\n",
       "      <td>2030-01-01 00:00:00</td>\n",
       "    </tr>\n",
       "    <tr>\n",
       "      <th>1037302</th>\n",
       "      <td>ramnit</td>\n",
       "      <td>pfvwbswbcmdl</td>\n",
       "      <td>1970-01-01 00:00:00</td>\n",
       "      <td>2030-01-01 00:00:00</td>\n",
       "    </tr>\n",
       "    <tr>\n",
       "      <th>1037303</th>\n",
       "      <td>ramnit</td>\n",
       "      <td>xcsxtiote</td>\n",
       "      <td>1970-01-01 00:00:00</td>\n",
       "      <td>2030-01-01 00:00:00</td>\n",
       "    </tr>\n",
       "    <tr>\n",
       "      <th>1037304</th>\n",
       "      <td>ramnit</td>\n",
       "      <td>qewhysmasnnxpfn</td>\n",
       "      <td>1970-01-01 00:00:00</td>\n",
       "      <td>2030-01-01 00:00:00</td>\n",
       "    </tr>\n",
       "  </tbody>\n",
       "</table>\n",
       "</div>"
      ],
      "text/plain": [
       "         family             domain                stime                etime\n",
       "1037300  ramnit  gkptqpxwcssikkqrl  1970-01-01 00:00:00  2030-01-01 00:00:00\n",
       "1037301  ramnit        syluctetweb  1970-01-01 00:00:00  2030-01-01 00:00:00\n",
       "1037302  ramnit       pfvwbswbcmdl  1970-01-01 00:00:00  2030-01-01 00:00:00\n",
       "1037303  ramnit          xcsxtiote  1970-01-01 00:00:00  2030-01-01 00:00:00\n",
       "1037304  ramnit    qewhysmasnnxpfn  1970-01-01 00:00:00  2030-01-01 00:00:00"
      ]
     },
     "execution_count": 4,
     "metadata": {},
     "output_type": "execute_result"
    }
   ],
   "source": [
    "dga_dataframe['domain'] = [domain_extract(uri) for uri in dga_dataframe['domain']]\n",
    "dga_dataframe.tail()"
   ]
  },
  {
   "cell_type": "code",
   "execution_count": 5,
   "metadata": {
    "collapsed": false
   },
   "outputs": [
    {
     "data": {
      "text/html": [
       "<div>\n",
       "<table border=\"1\" class=\"dataframe\">\n",
       "  <thead>\n",
       "    <tr style=\"text-align: right;\">\n",
       "      <th></th>\n",
       "      <th>family</th>\n",
       "      <th>domain</th>\n",
       "      <th>class</th>\n",
       "    </tr>\n",
       "  </thead>\n",
       "  <tbody>\n",
       "    <tr>\n",
       "      <th>0</th>\n",
       "      <td>nymaim</td>\n",
       "      <td>qoxkpqlqm</td>\n",
       "      <td>dga</td>\n",
       "    </tr>\n",
       "    <tr>\n",
       "      <th>1</th>\n",
       "      <td>nymaim</td>\n",
       "      <td>xjvlja</td>\n",
       "      <td>dga</td>\n",
       "    </tr>\n",
       "    <tr>\n",
       "      <th>2</th>\n",
       "      <td>nymaim</td>\n",
       "      <td>tdksfgspy</td>\n",
       "      <td>dga</td>\n",
       "    </tr>\n",
       "    <tr>\n",
       "      <th>3</th>\n",
       "      <td>nymaim</td>\n",
       "      <td>udbwmukdw</td>\n",
       "      <td>dga</td>\n",
       "    </tr>\n",
       "    <tr>\n",
       "      <th>4</th>\n",
       "      <td>nymaim</td>\n",
       "      <td>wrphopu</td>\n",
       "      <td>dga</td>\n",
       "    </tr>\n",
       "  </tbody>\n",
       "</table>\n",
       "</div>"
      ],
      "text/plain": [
       "   family     domain class\n",
       "0  nymaim  qoxkpqlqm   dga\n",
       "1  nymaim     xjvlja   dga\n",
       "2  nymaim  tdksfgspy   dga\n",
       "3  nymaim  udbwmukdw   dga\n",
       "4  nymaim    wrphopu   dga"
      ]
     },
     "execution_count": 5,
     "metadata": {},
     "output_type": "execute_result"
    }
   ],
   "source": [
    "#del dga_dataframe['family']\n",
    "del dga_dataframe['stime']\n",
    "del dga_dataframe['etime']\n",
    "dga_dataframe['class'] = 'dga'\n",
    "dga_dataframe.head()"
   ]
  },
  {
   "cell_type": "code",
   "execution_count": 6,
   "metadata": {
    "collapsed": false
   },
   "outputs": [],
   "source": [
    "#dga_dataframe.rename(columns={'family': 'class'}, inplace = True)\n",
    "dga_dataframe = dga_dataframe.dropna().drop_duplicates()"
   ]
  },
  {
   "cell_type": "code",
   "execution_count": 7,
   "metadata": {
    "collapsed": false
   },
   "outputs": [],
   "source": [
    "import re\n",
    "#if re.match('xn--', '2xn---'):\n",
    "#    print 1\n",
    "#dga_dataframe[re.match('xn--', dga_dataframe['domain'])]\n",
    "#dga_dataframe['family'] == 'nymaim'\n",
    "#dga_dataframe[pd.Series([re.match('qo', i)!= None for i in dga_dataframe['domain']])]\n",
    "#pd.Series([re.match('qo', i)!= None for i in dga_dataframe['domain']])\n",
    "x = dga_dataframe[dga_dataframe['family'] == 'nymaim']"
   ]
  },
  {
   "cell_type": "code",
   "execution_count": 8,
   "metadata": {
    "collapsed": false
   },
   "outputs": [
    {
     "data": {
      "text/plain": [
       "family    248\n",
       "domain    248\n",
       "class     248\n",
       "dtype: int64"
      ]
     },
     "execution_count": 8,
     "metadata": {},
     "output_type": "execute_result"
    }
   ],
   "source": [
    "x.count()"
   ]
  },
  {
   "cell_type": "code",
   "execution_count": 9,
   "metadata": {
    "collapsed": false
   },
   "outputs": [
    {
     "data": {
      "text/plain": [
       "True"
      ]
     },
     "execution_count": 9,
     "metadata": {},
     "output_type": "execute_result"
    }
   ],
   "source": [
    "#x[pd.Series([re.match('qo', i)!= None for i in x['domain']])]\n",
    "x['domain'].is_unique"
   ]
  },
  {
   "cell_type": "code",
   "execution_count": 11,
   "metadata": {
    "collapsed": false
   },
   "outputs": [
    {
     "name": "stdout",
     "output_type": "stream",
     "text": [
      "xn--dk8h6i.ws\n"
     ]
    },
    {
     "data": {
      "text/html": [
       "<div>\n",
       "<table border=\"1\" class=\"dataframe\">\n",
       "  <thead>\n",
       "    <tr style=\"text-align: right;\">\n",
       "      <th></th>\n",
       "      <th>domain</th>\n",
       "      <th>class</th>\n",
       "      <th>family</th>\n",
       "    </tr>\n",
       "  </thead>\n",
       "  <tbody>\n",
       "    <tr>\n",
       "      <th>0</th>\n",
       "      <td>google</td>\n",
       "      <td>legit</td>\n",
       "      <td>legit</td>\n",
       "    </tr>\n",
       "    <tr>\n",
       "      <th>1</th>\n",
       "      <td>youtube</td>\n",
       "      <td>legit</td>\n",
       "      <td>legit</td>\n",
       "    </tr>\n",
       "    <tr>\n",
       "      <th>2</th>\n",
       "      <td>facebook</td>\n",
       "      <td>legit</td>\n",
       "      <td>legit</td>\n",
       "    </tr>\n",
       "    <tr>\n",
       "      <th>3</th>\n",
       "      <td>baidu</td>\n",
       "      <td>legit</td>\n",
       "      <td>legit</td>\n",
       "    </tr>\n",
       "    <tr>\n",
       "      <th>4</th>\n",
       "      <td>wikipedia</td>\n",
       "      <td>legit</td>\n",
       "      <td>legit</td>\n",
       "    </tr>\n",
       "  </tbody>\n",
       "</table>\n",
       "</div>"
      ],
      "text/plain": [
       "      domain  class family\n",
       "0     google  legit  legit\n",
       "1    youtube  legit  legit\n",
       "2   facebook  legit  legit\n",
       "3      baidu  legit  legit\n",
       "4  wikipedia  legit  legit"
      ]
     },
     "execution_count": 11,
     "metadata": {},
     "output_type": "execute_result"
    }
   ],
   "source": [
    "alexa_dataframe = pd.read_csv('top-1m.csv', names = ['n', 'domain'], header=None, encoding='utf-8')\n",
    "alexa_dataframe['class'] = 'legit'\n",
    "alexa_dataframe['family'] = 'legit'\n",
    "del alexa_dataframe['n']\n",
    "alexa_dataframe['domain'] = [domain_extract(uri) for uri in alexa_dataframe['domain']]\n",
    "alexa_dataframe = alexa_dataframe.dropna().drop_duplicates()\n",
    "alexa_dataframe.head()"
   ]
  },
  {
   "cell_type": "code",
   "execution_count": 12,
   "metadata": {
    "collapsed": false
   },
   "outputs": [
    {
     "data": {
      "text/plain": [
       "class     1832297\n",
       "domain    1832297\n",
       "family    1832297\n",
       "dtype: int64"
      ]
     },
     "execution_count": 12,
     "metadata": {},
     "output_type": "execute_result"
    }
   ],
   "source": [
    "all_domains = pd.concat([alexa_dataframe, dga_dataframe], ignore_index=True)\n",
    "all_domains.count()"
   ]
  },
  {
   "cell_type": "code",
   "execution_count": 13,
   "metadata": {
    "collapsed": false
   },
   "outputs": [],
   "source": [
    "all_domains['length'] = [len(x) for x in all_domains['domain']]\n",
    "#all_domains = all_domains[all_domains['length'] > 6]"
   ]
  },
  {
   "cell_type": "code",
   "execution_count": 14,
   "metadata": {
    "collapsed": false
   },
   "outputs": [
    {
     "data": {
      "text/html": [
       "<div>\n",
       "<table border=\"1\" class=\"dataframe\">\n",
       "  <thead>\n",
       "    <tr style=\"text-align: right;\">\n",
       "      <th></th>\n",
       "      <th>class</th>\n",
       "      <th>domain</th>\n",
       "      <th>family</th>\n",
       "      <th>length</th>\n",
       "    </tr>\n",
       "  </thead>\n",
       "  <tbody>\n",
       "    <tr>\n",
       "      <th>0</th>\n",
       "      <td>legit</td>\n",
       "      <td>google</td>\n",
       "      <td>legit</td>\n",
       "      <td>6</td>\n",
       "    </tr>\n",
       "    <tr>\n",
       "      <th>1</th>\n",
       "      <td>legit</td>\n",
       "      <td>youtube</td>\n",
       "      <td>legit</td>\n",
       "      <td>7</td>\n",
       "    </tr>\n",
       "    <tr>\n",
       "      <th>2</th>\n",
       "      <td>legit</td>\n",
       "      <td>facebook</td>\n",
       "      <td>legit</td>\n",
       "      <td>8</td>\n",
       "    </tr>\n",
       "    <tr>\n",
       "      <th>3</th>\n",
       "      <td>legit</td>\n",
       "      <td>baidu</td>\n",
       "      <td>legit</td>\n",
       "      <td>5</td>\n",
       "    </tr>\n",
       "    <tr>\n",
       "      <th>4</th>\n",
       "      <td>legit</td>\n",
       "      <td>wikipedia</td>\n",
       "      <td>legit</td>\n",
       "      <td>9</td>\n",
       "    </tr>\n",
       "  </tbody>\n",
       "</table>\n",
       "</div>"
      ],
      "text/plain": [
       "   class     domain family  length\n",
       "0  legit     google  legit       6\n",
       "1  legit    youtube  legit       7\n",
       "2  legit   facebook  legit       8\n",
       "3  legit      baidu  legit       5\n",
       "4  legit  wikipedia  legit       9"
      ]
     },
     "execution_count": 14,
     "metadata": {},
     "output_type": "execute_result"
    }
   ],
   "source": [
    "all_domains.head()"
   ]
  },
  {
   "cell_type": "code",
   "execution_count": 15,
   "metadata": {
    "collapsed": false
   },
   "outputs": [
    {
     "data": {
      "text/html": [
       "<div>\n",
       "<table border=\"1\" class=\"dataframe\">\n",
       "  <thead>\n",
       "    <tr style=\"text-align: right;\">\n",
       "      <th></th>\n",
       "      <th>class</th>\n",
       "      <th>domain</th>\n",
       "      <th>family</th>\n",
       "      <th>length</th>\n",
       "      <th>entropy</th>\n",
       "    </tr>\n",
       "  </thead>\n",
       "  <tbody>\n",
       "    <tr>\n",
       "      <th>0</th>\n",
       "      <td>legit</td>\n",
       "      <td>google</td>\n",
       "      <td>legit</td>\n",
       "      <td>6</td>\n",
       "      <td>1.918296</td>\n",
       "    </tr>\n",
       "    <tr>\n",
       "      <th>1</th>\n",
       "      <td>legit</td>\n",
       "      <td>youtube</td>\n",
       "      <td>legit</td>\n",
       "      <td>7</td>\n",
       "      <td>2.521641</td>\n",
       "    </tr>\n",
       "    <tr>\n",
       "      <th>2</th>\n",
       "      <td>legit</td>\n",
       "      <td>facebook</td>\n",
       "      <td>legit</td>\n",
       "      <td>8</td>\n",
       "      <td>2.750000</td>\n",
       "    </tr>\n",
       "    <tr>\n",
       "      <th>3</th>\n",
       "      <td>legit</td>\n",
       "      <td>baidu</td>\n",
       "      <td>legit</td>\n",
       "      <td>5</td>\n",
       "      <td>2.321928</td>\n",
       "    </tr>\n",
       "    <tr>\n",
       "      <th>4</th>\n",
       "      <td>legit</td>\n",
       "      <td>wikipedia</td>\n",
       "      <td>legit</td>\n",
       "      <td>9</td>\n",
       "      <td>2.641604</td>\n",
       "    </tr>\n",
       "  </tbody>\n",
       "</table>\n",
       "</div>"
      ],
      "text/plain": [
       "   class     domain family  length   entropy\n",
       "0  legit     google  legit       6  1.918296\n",
       "1  legit    youtube  legit       7  2.521641\n",
       "2  legit   facebook  legit       8  2.750000\n",
       "3  legit      baidu  legit       5  2.321928\n",
       "4  legit  wikipedia  legit       9  2.641604"
      ]
     },
     "execution_count": 15,
     "metadata": {},
     "output_type": "execute_result"
    }
   ],
   "source": [
    "import math\n",
    "from collections import Counter\n",
    " \n",
    "def entropy(s):\n",
    "    p, lns = Counter(s), float(len(s))\n",
    "    return -sum( count/lns * math.log(count/lns, 2) for count in p.values())\n",
    "all_domains['entropy'] = [entropy(x) for x in all_domains['domain']]\n",
    "all_domains.head()"
   ]
  },
  {
   "cell_type": "code",
   "execution_count": 16,
   "metadata": {
    "collapsed": false
   },
   "outputs": [
    {
     "data": {
      "text/html": [
       "<div>\n",
       "<table border=\"1\" class=\"dataframe\">\n",
       "  <thead>\n",
       "    <tr style=\"text-align: right;\">\n",
       "      <th></th>\n",
       "      <th>class</th>\n",
       "      <th>domain</th>\n",
       "      <th>family</th>\n",
       "      <th>length</th>\n",
       "      <th>entropy</th>\n",
       "    </tr>\n",
       "  </thead>\n",
       "  <tbody>\n",
       "    <tr>\n",
       "      <th>1832292</th>\n",
       "      <td>dga</td>\n",
       "      <td>gkptqpxwcssikkqrl</td>\n",
       "      <td>ramnit</td>\n",
       "      <td>17</td>\n",
       "      <td>3.454822</td>\n",
       "    </tr>\n",
       "    <tr>\n",
       "      <th>1832293</th>\n",
       "      <td>dga</td>\n",
       "      <td>syluctetweb</td>\n",
       "      <td>ramnit</td>\n",
       "      <td>11</td>\n",
       "      <td>3.095795</td>\n",
       "    </tr>\n",
       "    <tr>\n",
       "      <th>1832294</th>\n",
       "      <td>dga</td>\n",
       "      <td>pfvwbswbcmdl</td>\n",
       "      <td>ramnit</td>\n",
       "      <td>12</td>\n",
       "      <td>3.251629</td>\n",
       "    </tr>\n",
       "    <tr>\n",
       "      <th>1832295</th>\n",
       "      <td>dga</td>\n",
       "      <td>xcsxtiote</td>\n",
       "      <td>ramnit</td>\n",
       "      <td>9</td>\n",
       "      <td>2.725481</td>\n",
       "    </tr>\n",
       "    <tr>\n",
       "      <th>1832296</th>\n",
       "      <td>dga</td>\n",
       "      <td>qewhysmasnnxpfn</td>\n",
       "      <td>ramnit</td>\n",
       "      <td>15</td>\n",
       "      <td>3.456565</td>\n",
       "    </tr>\n",
       "  </tbody>\n",
       "</table>\n",
       "</div>"
      ],
      "text/plain": [
       "        class             domain  family  length   entropy\n",
       "1832292   dga  gkptqpxwcssikkqrl  ramnit      17  3.454822\n",
       "1832293   dga        syluctetweb  ramnit      11  3.095795\n",
       "1832294   dga       pfvwbswbcmdl  ramnit      12  3.251629\n",
       "1832295   dga          xcsxtiote  ramnit       9  2.725481\n",
       "1832296   dga    qewhysmasnnxpfn  ramnit      15  3.456565"
      ]
     },
     "execution_count": 16,
     "metadata": {},
     "output_type": "execute_result"
    }
   ],
   "source": [
    "all_domains.tail()"
   ]
  },
  {
   "cell_type": "code",
   "execution_count": 17,
   "metadata": {
    "collapsed": false
   },
   "outputs": [
    {
     "data": {
      "image/png": "[encoded data removed]",
      "text/plain": [
       "<matplotlib.figure.Figure at 0x119d91d0>"
      ]
     },
     "metadata": {},
     "output_type": "display_data"
    },
    {
     "data": {
      "image/png": "[encoded data removed]",
      "text/plain": [
       "<matplotlib.figure.Figure at 0x295f1588>"
      ]
     },
     "metadata": {},
     "output_type": "display_data"
    }
   ],
   "source": [
    "# Set default pylab stuff\n",
    "import pylab\n",
    "pylab.rcParams['figure.figsize'] = (14.0, 5.0)\n",
    "pylab.rcParams['axes.grid'] = True\n",
    "\n",
    "all_domains.boxplot('length','class')\n",
    "pylab.ylabel('Domain Length')\n",
    "all_domains.boxplot('entropy','class')\n",
    "pylab.ylabel('Domain Entropy')\n",
    "pylab.show()"
   ]
  },
  {
   "cell_type": "code",
   "execution_count": 18,
   "metadata": {
    "collapsed": false
   },
   "outputs": [
    {
     "data": {
      "image/png": "[encoded data removed]",
      "text/plain": [
       "<matplotlib.figure.Figure at 0x10cb1518>"
      ]
     },
     "metadata": {},
     "output_type": "display_data"
    }
   ],
   "source": [
    "import matplotlib.pyplot as plt\n",
    "cond = all_domains['class'] == 'dga'\n",
    "dga = all_domains[cond]\n",
    "alexa = all_domains[~cond]\n",
    "plt.scatter(alexa['length'], alexa['entropy'], s=140, c='#aaaaff', label='Alexa', alpha=.2)\n",
    "plt.scatter(dga['length'], dga['entropy'], s=40, c='r', label='DGA', alpha=.3)\n",
    "plt.legend()\n",
    "pylab.xlabel('Domain Length')\n",
    "pylab.ylabel('Domain Entropy')\n",
    "plt.show()"
   ]
  },
  {
   "cell_type": "code",
   "execution_count": 19,
   "metadata": {
    "collapsed": false
   },
   "outputs": [
    {
     "data": {
      "image/png": "[encoded data removed]",
      "text/plain": [
       "<matplotlib.figure.Figure at 0x285cab38>"
      ]
     },
     "metadata": {},
     "output_type": "display_data"
    }
   ],
   "source": [
    "import matplotlib.pyplot as plt\n",
    "cond = all_domains['class'] == 'dga'\n",
    "dga = all_domains[cond]\n",
    "alexa = all_domains[~cond]\n",
    "plt.scatter(alexa['length'], alexa['entropy'], s=140, c='#aaaaff', label='Alexa', alpha=.2)\n",
    "plt.scatter(dga['length'], dga['entropy'], s=40, c='r', label='DGA', alpha=.3)\n",
    "plt.legend()\n",
    "pylab.xlabel('Domain Length')\n",
    "pylab.ylabel('Domain Entropy')\n",
    "plt.show()"
   ]
  },
  {
   "cell_type": "code",
   "execution_count": 20,
   "metadata": {
    "collapsed": false
   },
   "outputs": [
    {
     "name": "stdout",
     "output_type": "stream",
     "text": [
      "Num Domains above 4 entropy: 0.84% 15312 (out of 1832297)\n",
      "Num high entropy legit: 318\n",
      "Num high entropy DGA: 14994\n"
     ]
    },
    {
     "data": {
      "text/html": [
       "<div>\n",
       "<table border=\"1\" class=\"dataframe\">\n",
       "  <thead>\n",
       "    <tr style=\"text-align: right;\">\n",
       "      <th></th>\n",
       "      <th>class</th>\n",
       "      <th>domain</th>\n",
       "      <th>family</th>\n",
       "      <th>length</th>\n",
       "      <th>entropy</th>\n",
       "    </tr>\n",
       "  </thead>\n",
       "  <tbody>\n",
       "    <tr>\n",
       "      <th>19890</th>\n",
       "      <td>legit</td>\n",
       "      <td>stream-a-ams1xx2sfcdnvideo5269</td>\n",
       "      <td>legit</td>\n",
       "      <td>30</td>\n",
       "      <td>4.189898</td>\n",
       "    </tr>\n",
       "    <tr>\n",
       "      <th>21089</th>\n",
       "      <td>legit</td>\n",
       "      <td>xn--cckea5a6cidcbh6ce7ghug17a2ge3aht3nwigef516...</td>\n",
       "      <td>legit</td>\n",
       "      <td>53</td>\n",
       "      <td>4.327188</td>\n",
       "    </tr>\n",
       "    <tr>\n",
       "      <th>41838</th>\n",
       "      <td>legit</td>\n",
       "      <td>xn--o9j592picar41ae8dgva</td>\n",
       "      <td>legit</td>\n",
       "      <td>24</td>\n",
       "      <td>4.220176</td>\n",
       "    </tr>\n",
       "    <tr>\n",
       "      <th>46378</th>\n",
       "      <td>legit</td>\n",
       "      <td>xn--eckybzahmsm43ab5g5336c9iug</td>\n",
       "      <td>legit</td>\n",
       "      <td>30</td>\n",
       "      <td>4.281728</td>\n",
       "    </tr>\n",
       "    <tr>\n",
       "      <th>49020</th>\n",
       "      <td>legit</td>\n",
       "      <td>xn--gck7ah6dsb1hyhl922bco4a</td>\n",
       "      <td>legit</td>\n",
       "      <td>27</td>\n",
       "      <td>4.208410</td>\n",
       "    </tr>\n",
       "  </tbody>\n",
       "</table>\n",
       "</div>"
      ],
      "text/plain": [
       "       class                                             domain family  \\\n",
       "19890  legit                     stream-a-ams1xx2sfcdnvideo5269  legit   \n",
       "21089  legit  xn--cckea5a6cidcbh6ce7ghug17a2ge3aht3nwigef516...  legit   \n",
       "41838  legit                           xn--o9j592picar41ae8dgva  legit   \n",
       "46378  legit                     xn--eckybzahmsm43ab5g5336c9iug  legit   \n",
       "49020  legit                        xn--gck7ah6dsb1hyhl922bco4a  legit   \n",
       "\n",
       "       length   entropy  \n",
       "19890      30  4.189898  \n",
       "21089      53  4.327188  \n",
       "41838      24  4.220176  \n",
       "46378      30  4.281728  \n",
       "49020      27  4.208410  "
      ]
     },
     "execution_count": 20,
     "metadata": {},
     "output_type": "execute_result"
    }
   ],
   "source": [
    "high_entropy_domains = all_domains[all_domains['entropy'] > 4]\n",
    "print 'Num Domains above 4 entropy: %.2f%% %d (out of %d)' % \\\n",
    "            (100.0*high_entropy_domains.shape[0]/all_domains.shape[0],high_entropy_domains.shape[0],all_domains.shape[0])\n",
    "print \"Num high entropy legit: %d\" % high_entropy_domains[high_entropy_domains['class']=='legit'].shape[0]\n",
    "print \"Num high entropy DGA: %d\" % high_entropy_domains[high_entropy_domains['class']=='dga'].shape[0]\n",
    "high_entropy_domains[high_entropy_domains['class']=='legit'].head()"
   ]
  },
  {
   "cell_type": "code",
   "execution_count": 21,
   "metadata": {
    "collapsed": false
   },
   "outputs": [
    {
     "data": {
      "text/html": [
       "<div>\n",
       "<table border=\"1\" class=\"dataframe\">\n",
       "  <thead>\n",
       "    <tr style=\"text-align: right;\">\n",
       "      <th></th>\n",
       "      <th>class</th>\n",
       "      <th>domain</th>\n",
       "      <th>length</th>\n",
       "      <th>entropy</th>\n",
       "    </tr>\n",
       "    <tr>\n",
       "      <th>family</th>\n",
       "      <th></th>\n",
       "      <th></th>\n",
       "      <th></th>\n",
       "      <th></th>\n",
       "    </tr>\n",
       "  </thead>\n",
       "  <tbody>\n",
       "    <tr>\n",
       "      <th>banjori</th>\n",
       "      <td>4001</td>\n",
       "      <td>4001</td>\n",
       "      <td>4001</td>\n",
       "      <td>4001</td>\n",
       "    </tr>\n",
       "    <tr>\n",
       "      <th>dircrypt</th>\n",
       "      <td>1</td>\n",
       "      <td>1</td>\n",
       "      <td>1</td>\n",
       "      <td>1</td>\n",
       "    </tr>\n",
       "    <tr>\n",
       "      <th>gameover</th>\n",
       "      <td>3607</td>\n",
       "      <td>3607</td>\n",
       "      <td>3607</td>\n",
       "      <td>3607</td>\n",
       "    </tr>\n",
       "    <tr>\n",
       "      <th>legit</th>\n",
       "      <td>318</td>\n",
       "      <td>318</td>\n",
       "      <td>318</td>\n",
       "      <td>318</td>\n",
       "    </tr>\n",
       "    <tr>\n",
       "      <th>murofet</th>\n",
       "      <td>441</td>\n",
       "      <td>441</td>\n",
       "      <td>441</td>\n",
       "      <td>441</td>\n",
       "    </tr>\n",
       "    <tr>\n",
       "      <th>necurs</th>\n",
       "      <td>63</td>\n",
       "      <td>63</td>\n",
       "      <td>63</td>\n",
       "      <td>63</td>\n",
       "    </tr>\n",
       "    <tr>\n",
       "      <th>ramnit</th>\n",
       "      <td>24</td>\n",
       "      <td>24</td>\n",
       "      <td>24</td>\n",
       "      <td>24</td>\n",
       "    </tr>\n",
       "    <tr>\n",
       "      <th>ranbyus</th>\n",
       "      <td>3</td>\n",
       "      <td>3</td>\n",
       "      <td>3</td>\n",
       "      <td>3</td>\n",
       "    </tr>\n",
       "    <tr>\n",
       "      <th>rovnix</th>\n",
       "      <td>6854</td>\n",
       "      <td>6854</td>\n",
       "      <td>6854</td>\n",
       "      <td>6854</td>\n",
       "    </tr>\n",
       "  </tbody>\n",
       "</table>\n",
       "</div>"
      ],
      "text/plain": [
       "          class  domain  length  entropy\n",
       "family                                  \n",
       "banjori    4001    4001    4001     4001\n",
       "dircrypt      1       1       1        1\n",
       "gameover   3607    3607    3607     3607\n",
       "legit       318     318     318      318\n",
       "murofet     441     441     441      441\n",
       "necurs       63      63      63       63\n",
       "ramnit       24      24      24       24\n",
       "ranbyus       3       3       3        3\n",
       "rovnix     6854    6854    6854     6854"
      ]
     },
     "execution_count": 21,
     "metadata": {},
     "output_type": "execute_result"
    }
   ],
   "source": [
    "high_entropy_domains.groupby(['family']).count()"
   ]
  },
  {
   "cell_type": "code",
   "execution_count": 22,
   "metadata": {
    "collapsed": false
   },
   "outputs": [
    {
     "data": {
      "text/html": [
       "<div>\n",
       "<table border=\"1\" class=\"dataframe\">\n",
       "  <thead>\n",
       "    <tr style=\"text-align: right;\">\n",
       "      <th></th>\n",
       "      <th>class</th>\n",
       "      <th>domain</th>\n",
       "      <th>length</th>\n",
       "      <th>entropy</th>\n",
       "    </tr>\n",
       "    <tr>\n",
       "      <th>family</th>\n",
       "      <th></th>\n",
       "      <th></th>\n",
       "      <th></th>\n",
       "      <th></th>\n",
       "    </tr>\n",
       "  </thead>\n",
       "  <tbody>\n",
       "    <tr>\n",
       "      <th>bamital</th>\n",
       "      <td>4</td>\n",
       "      <td>4</td>\n",
       "      <td>4</td>\n",
       "      <td>4</td>\n",
       "    </tr>\n",
       "    <tr>\n",
       "      <th>banjori</th>\n",
       "      <td>439093</td>\n",
       "      <td>439093</td>\n",
       "      <td>439093</td>\n",
       "      <td>439093</td>\n",
       "    </tr>\n",
       "    <tr>\n",
       "      <th>blackhole</th>\n",
       "      <td>2</td>\n",
       "      <td>2</td>\n",
       "      <td>2</td>\n",
       "      <td>2</td>\n",
       "    </tr>\n",
       "    <tr>\n",
       "      <th>chinad</th>\n",
       "      <td>673</td>\n",
       "      <td>673</td>\n",
       "      <td>673</td>\n",
       "      <td>673</td>\n",
       "    </tr>\n",
       "    <tr>\n",
       "      <th>conficker</th>\n",
       "      <td>496</td>\n",
       "      <td>496</td>\n",
       "      <td>496</td>\n",
       "      <td>496</td>\n",
       "    </tr>\n",
       "    <tr>\n",
       "      <th>cryptolocker</th>\n",
       "      <td>1000</td>\n",
       "      <td>1000</td>\n",
       "      <td>1000</td>\n",
       "      <td>1000</td>\n",
       "    </tr>\n",
       "    <tr>\n",
       "      <th>dircrypt</th>\n",
       "      <td>350</td>\n",
       "      <td>350</td>\n",
       "      <td>350</td>\n",
       "      <td>350</td>\n",
       "    </tr>\n",
       "    <tr>\n",
       "      <th>dyre</th>\n",
       "      <td>116</td>\n",
       "      <td>116</td>\n",
       "      <td>116</td>\n",
       "      <td>116</td>\n",
       "    </tr>\n",
       "    <tr>\n",
       "      <th>emotet</th>\n",
       "      <td>176064</td>\n",
       "      <td>176064</td>\n",
       "      <td>176064</td>\n",
       "      <td>176064</td>\n",
       "    </tr>\n",
       "    <tr>\n",
       "      <th>fobber_v1</th>\n",
       "      <td>296</td>\n",
       "      <td>296</td>\n",
       "      <td>296</td>\n",
       "      <td>296</td>\n",
       "    </tr>\n",
       "    <tr>\n",
       "      <th>fobber_v2</th>\n",
       "      <td>298</td>\n",
       "      <td>298</td>\n",
       "      <td>298</td>\n",
       "      <td>298</td>\n",
       "    </tr>\n",
       "    <tr>\n",
       "      <th>gameover</th>\n",
       "      <td>6889</td>\n",
       "      <td>6889</td>\n",
       "      <td>6889</td>\n",
       "      <td>6889</td>\n",
       "    </tr>\n",
       "    <tr>\n",
       "      <th>gspy</th>\n",
       "      <td>30</td>\n",
       "      <td>30</td>\n",
       "      <td>30</td>\n",
       "      <td>30</td>\n",
       "    </tr>\n",
       "    <tr>\n",
       "      <th>legit</th>\n",
       "      <td>860486</td>\n",
       "      <td>860486</td>\n",
       "      <td>860486</td>\n",
       "      <td>860486</td>\n",
       "    </tr>\n",
       "    <tr>\n",
       "      <th>locky</th>\n",
       "      <td>1077</td>\n",
       "      <td>1077</td>\n",
       "      <td>1077</td>\n",
       "      <td>1077</td>\n",
       "    </tr>\n",
       "    <tr>\n",
       "      <th>madmax</th>\n",
       "      <td>1</td>\n",
       "      <td>1</td>\n",
       "      <td>1</td>\n",
       "      <td>1</td>\n",
       "    </tr>\n",
       "    <tr>\n",
       "      <th>matsnu</th>\n",
       "      <td>897</td>\n",
       "      <td>897</td>\n",
       "      <td>897</td>\n",
       "      <td>897</td>\n",
       "    </tr>\n",
       "    <tr>\n",
       "      <th>mirai</th>\n",
       "      <td>2</td>\n",
       "      <td>2</td>\n",
       "      <td>2</td>\n",
       "      <td>2</td>\n",
       "    </tr>\n",
       "    <tr>\n",
       "      <th>murofet</th>\n",
       "      <td>2604</td>\n",
       "      <td>2604</td>\n",
       "      <td>2604</td>\n",
       "      <td>2604</td>\n",
       "    </tr>\n",
       "    <tr>\n",
       "      <th>necurs</th>\n",
       "      <td>7980</td>\n",
       "      <td>7980</td>\n",
       "      <td>7980</td>\n",
       "      <td>7980</td>\n",
       "    </tr>\n",
       "    <tr>\n",
       "      <th>nymaim</th>\n",
       "      <td>248</td>\n",
       "      <td>248</td>\n",
       "      <td>248</td>\n",
       "      <td>248</td>\n",
       "    </tr>\n",
       "    <tr>\n",
       "      <th>proslikefan</th>\n",
       "      <td>100</td>\n",
       "      <td>100</td>\n",
       "      <td>100</td>\n",
       "      <td>100</td>\n",
       "    </tr>\n",
       "    <tr>\n",
       "      <th>pykspa_v1</th>\n",
       "      <td>44675</td>\n",
       "      <td>44675</td>\n",
       "      <td>44675</td>\n",
       "      <td>44675</td>\n",
       "    </tr>\n",
       "    <tr>\n",
       "      <th>pykspa_v2_fake</th>\n",
       "      <td>800</td>\n",
       "      <td>800</td>\n",
       "      <td>800</td>\n",
       "      <td>800</td>\n",
       "    </tr>\n",
       "    <tr>\n",
       "      <th>pykspa_v2_real</th>\n",
       "      <td>200</td>\n",
       "      <td>200</td>\n",
       "      <td>200</td>\n",
       "      <td>200</td>\n",
       "    </tr>\n",
       "    <tr>\n",
       "      <th>qadars</th>\n",
       "      <td>888</td>\n",
       "      <td>888</td>\n",
       "      <td>888</td>\n",
       "      <td>888</td>\n",
       "    </tr>\n",
       "    <tr>\n",
       "      <th>ramnit</th>\n",
       "      <td>14107</td>\n",
       "      <td>14107</td>\n",
       "      <td>14107</td>\n",
       "      <td>14107</td>\n",
       "    </tr>\n",
       "    <tr>\n",
       "      <th>ranbyus</th>\n",
       "      <td>4840</td>\n",
       "      <td>4840</td>\n",
       "      <td>4840</td>\n",
       "      <td>4840</td>\n",
       "    </tr>\n",
       "    <tr>\n",
       "      <th>rovnix</th>\n",
       "      <td>179995</td>\n",
       "      <td>179995</td>\n",
       "      <td>179995</td>\n",
       "      <td>179995</td>\n",
       "    </tr>\n",
       "    <tr>\n",
       "      <th>shifu</th>\n",
       "      <td>2553</td>\n",
       "      <td>2553</td>\n",
       "      <td>2553</td>\n",
       "      <td>2553</td>\n",
       "    </tr>\n",
       "    <tr>\n",
       "      <th>simda</th>\n",
       "      <td>21336</td>\n",
       "      <td>21336</td>\n",
       "      <td>21336</td>\n",
       "      <td>21336</td>\n",
       "    </tr>\n",
       "    <tr>\n",
       "      <th>suppobox</th>\n",
       "      <td>1977</td>\n",
       "      <td>1977</td>\n",
       "      <td>1977</td>\n",
       "      <td>1977</td>\n",
       "    </tr>\n",
       "    <tr>\n",
       "      <th>symmi</th>\n",
       "      <td>1</td>\n",
       "      <td>1</td>\n",
       "      <td>1</td>\n",
       "      <td>1</td>\n",
       "    </tr>\n",
       "    <tr>\n",
       "      <th>tempedreve</th>\n",
       "      <td>202</td>\n",
       "      <td>202</td>\n",
       "      <td>202</td>\n",
       "      <td>202</td>\n",
       "    </tr>\n",
       "    <tr>\n",
       "      <th>tinba</th>\n",
       "      <td>51727</td>\n",
       "      <td>51727</td>\n",
       "      <td>51727</td>\n",
       "      <td>51727</td>\n",
       "    </tr>\n",
       "    <tr>\n",
       "      <th>tofsee</th>\n",
       "      <td>10</td>\n",
       "      <td>10</td>\n",
       "      <td>10</td>\n",
       "      <td>10</td>\n",
       "    </tr>\n",
       "    <tr>\n",
       "      <th>vawtrak</th>\n",
       "      <td>288</td>\n",
       "      <td>288</td>\n",
       "      <td>288</td>\n",
       "      <td>288</td>\n",
       "    </tr>\n",
       "    <tr>\n",
       "      <th>vidro</th>\n",
       "      <td>67</td>\n",
       "      <td>67</td>\n",
       "      <td>67</td>\n",
       "      <td>67</td>\n",
       "    </tr>\n",
       "    <tr>\n",
       "      <th>virut</th>\n",
       "      <td>9925</td>\n",
       "      <td>9925</td>\n",
       "      <td>9925</td>\n",
       "      <td>9925</td>\n",
       "    </tr>\n",
       "  </tbody>\n",
       "</table>\n",
       "</div>"
      ],
      "text/plain": [
       "                 class  domain  length  entropy\n",
       "family                                         \n",
       "bamital              4       4       4        4\n",
       "banjori         439093  439093  439093   439093\n",
       "blackhole            2       2       2        2\n",
       "chinad             673     673     673      673\n",
       "conficker          496     496     496      496\n",
       "cryptolocker      1000    1000    1000     1000\n",
       "dircrypt           350     350     350      350\n",
       "dyre               116     116     116      116\n",
       "emotet          176064  176064  176064   176064\n",
       "fobber_v1          296     296     296      296\n",
       "fobber_v2          298     298     298      298\n",
       "gameover          6889    6889    6889     6889\n",
       "gspy                30      30      30       30\n",
       "legit           860486  860486  860486   860486\n",
       "locky             1077    1077    1077     1077\n",
       "madmax               1       1       1        1\n",
       "matsnu             897     897     897      897\n",
       "mirai                2       2       2        2\n",
       "murofet           2604    2604    2604     2604\n",
       "necurs            7980    7980    7980     7980\n",
       "nymaim             248     248     248      248\n",
       "proslikefan        100     100     100      100\n",
       "pykspa_v1        44675   44675   44675    44675\n",
       "pykspa_v2_fake     800     800     800      800\n",
       "pykspa_v2_real     200     200     200      200\n",
       "qadars             888     888     888      888\n",
       "ramnit           14107   14107   14107    14107\n",
       "ranbyus           4840    4840    4840     4840\n",
       "rovnix          179995  179995  179995   179995\n",
       "shifu             2553    2553    2553     2553\n",
       "simda            21336   21336   21336    21336\n",
       "suppobox          1977    1977    1977     1977\n",
       "symmi                1       1       1        1\n",
       "tempedreve         202     202     202      202\n",
       "tinba            51727   51727   51727    51727\n",
       "tofsee              10      10      10       10\n",
       "vawtrak            288     288     288      288\n",
       "vidro               67      67      67       67\n",
       "virut             9925    9925    9925     9925"
      ]
     },
     "execution_count": 22,
     "metadata": {},
     "output_type": "execute_result"
    }
   ],
   "source": [
    "all_domains.groupby(['family']).count()"
   ]
  },
  {
   "cell_type": "code",
   "execution_count": 23,
   "metadata": {
    "collapsed": false
   },
   "outputs": [
    {
     "data": {
      "text/plain": [
       "class      206\n",
       "domain     206\n",
       "family     206\n",
       "length     206\n",
       "entropy    206\n",
       "dtype: int64"
      ]
     },
     "execution_count": 23,
     "metadata": {},
     "output_type": "execute_result"
    }
   ],
   "source": [
    "high_entropy_domains[(high_entropy_domains['class']=='legit') & (high_entropy_domains['domain'].str.startswith('xn--'))].count()\n",
    "#high_entropy_domains[high_entropy_domains['domain'].str.startswith('xn--')].count()\n",
    "#high_entropy_domains['domain'].str.startswith('xn--')"
   ]
  },
  {
   "cell_type": "code",
   "execution_count": 24,
   "metadata": {
    "collapsed": false
   },
   "outputs": [
    {
     "name": "stdout",
     "output_type": "stream",
     "text": [
      "1832297\n"
     ]
    }
   ],
   "source": [
    "X = all_domains.as_matrix(['length', 'entropy'])\n",
    "print len(X)"
   ]
  },
  {
   "cell_type": "code",
   "execution_count": 25,
   "metadata": {
    "collapsed": false
   },
   "outputs": [
    {
     "name": "stdout",
     "output_type": "stream",
     "text": [
      "1832297\n"
     ]
    }
   ],
   "source": [
    "y = np.array(all_domains['class'].tolist())\n",
    "print len(y)"
   ]
  },
  {
   "cell_type": "code",
   "execution_count": 26,
   "metadata": {
    "collapsed": false
   },
   "outputs": [],
   "source": [
    "import sklearn.ensemble\n",
    "clf = sklearn.ensemble.RandomForestClassifier(n_estimators=50)"
   ]
  },
  {
   "cell_type": "code",
   "execution_count": 27,
   "metadata": {
    "collapsed": false
   },
   "outputs": [
    {
     "name": "stdout",
     "output_type": "stream",
     "text": [
      "[ 0.80091797  0.89526278  0.60726955  0.77678328  0.8774764   0.68811876\n",
      "  0.78324938  0.758619    0.61731494  0.67673785]\n"
     ]
    }
   ],
   "source": [
    "scores = sklearn.model_selection.cross_val_score(clf, X, y, cv=10, n_jobs=-1)\n",
    "print scores"
   ]
  },
  {
   "cell_type": "code",
   "execution_count": 28,
   "metadata": {
    "collapsed": false
   },
   "outputs": [
    {
     "data": {
      "text/plain": [
       "'0.18.1'"
      ]
     },
     "execution_count": 28,
     "metadata": {},
     "output_type": "execute_result"
    }
   ],
   "source": [
    "sklearn.__version__"
   ]
  },
  {
   "cell_type": "code",
   "execution_count": 29,
   "metadata": {
    "collapsed": false
   },
   "outputs": [],
   "source": [
    "from sklearn.model_selection import train_test_split\n",
    "X_train, X_test, y_train, y_test = train_test_split(X, y, test_size=0.1)\n",
    "clf.fit(X_train, y_train)\n",
    "y_pred = clf.predict(X_test)"
   ]
  },
  {
   "cell_type": "code",
   "execution_count": 30,
   "metadata": {
    "collapsed": false
   },
   "outputs": [
    {
     "name": "stdout",
     "output_type": "stream",
     "text": [
      "Confusion Matrix Stats\n",
      "legit/legit: 81.65% (70434/86261)\n",
      "legit/dga: 18.35% (15827/86261)\n",
      "dga/legit: 17.00% (16481/96969)\n",
      "dga/dga: 83.00% (80488/96969)\n"
     ]
    },
    {
     "data": {
      "image/png": "[encoded data removed]",
      "text/plain": [
       "<matplotlib.figure.Figure at 0x40ef9ef0>"
      ]
     },
     "metadata": {},
     "output_type": "display_data"
    }
   ],
   "source": [
    "from sklearn.metrics import confusion_matrix\n",
    "cm = confusion_matrix(y_test, y_pred, labels = ['legit', 'dga'])\n",
    "labels = ['legit', 'dga']\n",
    "def plot_cm(cm, labels):\n",
    "    \n",
    "    # Compute percentanges\n",
    "    percent = (cm*100.0)/np.array(np.matrix(cm.sum(axis=1)).T)  # Derp, I'm sure there's a better way\n",
    "    \n",
    "    print 'Confusion Matrix Stats'\n",
    "    for i, label_i in enumerate(labels):\n",
    "        for j, label_j in enumerate(labels):\n",
    "            print \"%s/%s: %.2f%% (%d/%d)\" % (label_i, label_j, (percent[i][j]), cm[i][j], cm[i].sum())\n",
    "\n",
    "    # Show confusion matrix\n",
    "    # Thanks kermit666 from stackoverflow :)\n",
    "    fig = plt.figure()\n",
    "    ax = fig.add_subplot(111)\n",
    "    ax.grid(b=False)\n",
    "    cax = ax.matshow(percent, cmap='coolwarm')\n",
    "    pylab.title('Confusion matrix of the classifier')\n",
    "    fig.colorbar(cax)\n",
    "    ax.set_xticklabels([''] + labels)\n",
    "    ax.set_yticklabels([''] + labels)\n",
    "    pylab.xlabel('Predicted')\n",
    "    pylab.ylabel('True')\n",
    "    pylab.show()\n",
    "\n",
    "plot_cm(cm, labels)"
   ]
  },
  {
   "cell_type": "code",
   "execution_count": 31,
   "metadata": {
    "collapsed": false
   },
   "outputs": [],
   "source": [
    "from sklearn.feature_extraction.text import CountVectorizer\n",
    "alexa_vc = CountVectorizer(analyzer='char', ngram_range=(3,5), min_df=1e-6, max_df=1.0, vocabulary=None)"
   ]
  },
  {
   "cell_type": "code",
   "execution_count": 32,
   "metadata": {
    "collapsed": true
   },
   "outputs": [],
   "source": [
    "counts_matrix = alexa_vc.fit_transform(alexa_dataframe['domain'])\n",
    "alexa_counts = np.log10(counts_matrix.sum(axis=0).getA1())\n",
    "ngrams_list = alexa_vc.get_feature_names()"
   ]
  },
  {
   "cell_type": "code",
   "execution_count": 33,
   "metadata": {
    "collapsed": false
   },
   "outputs": [
    {
     "name": "stdout",
     "output_type": "stream",
     "text": [
      "Alexa NGrams: 1334771\n",
      "ing 4.45939248776\n",
      "ine 4.35487642252\n",
      "ion 4.32114256523\n",
      "ent 4.31124512088\n",
      "ter 4.30178934677\n",
      "lin 4.29891854301\n",
      "the 4.22975861122\n",
      "and 4.2280151751\n",
      "est 4.20207944101\n",
      "tor 4.20085049809\n"
     ]
    }
   ],
   "source": [
    "import operator\n",
    "_sorted_ngrams = sorted(zip(ngrams_list, alexa_counts), key=operator.itemgetter(1), reverse=True)\n",
    "print 'Alexa NGrams: %d' % len(_sorted_ngrams)\n",
    "for ngram, count in _sorted_ngrams[:10]:\n",
    "    print ngram, count"
   ]
  },
  {
   "cell_type": "code",
   "execution_count": 34,
   "metadata": {
    "collapsed": true
   },
   "outputs": [],
   "source": [
    "from sklearn.feature_extraction.text import CountVectorizer\n",
    "alexa_vc = CountVectorizer(analyzer='char', ngram_range=(1), min_df=1e-6, max_df=1.0, vocabulary=None)"
   ]
  },
  {
   "cell_type": "code",
   "execution_count": 58,
   "metadata": {
    "collapsed": false
   },
   "outputs": [
    {
     "data": {
      "text/plain": [
       "array([0, 0, 0, 0, 0, 0, 0, 0, 0, 0, 0, 0, 0, 0, 1, 0, 2, 0, 0, 0, 0, 1, 0,\n",
       "       0, 2, 0, 0, 0, 0, 0, 0, 0, 0, 0, 0, 0], dtype=int64)"
      ]
     },
     "execution_count": 58,
     "metadata": {},
     "output_type": "execute_result"
    }
   ],
   "source": [
    "word_dataframe = pd.read_csv('Data/words.csv', names=['word'], header=None, dtype={'word': np.str}, encoding='utf-8')"
   ]
  }
 ],
 "metadata": {
  "kernelspec": {
   "display_name": "Python 2",
   "language": "python",
   "name": "python2"
  },
  "language_info": {
   "codemirror_mode": {
    "name": "ipython",
    "version": 2
   },
   "file_extension": ".py",
   "mimetype": "text/x-python",
   "name": "python",
   "nbconvert_exporter": "python",
   "pygments_lexer": "ipython2",
   "version": "2.7.13"
  }
 },
 "nbformat": 4,
 "nbformat_minor": 2
}
